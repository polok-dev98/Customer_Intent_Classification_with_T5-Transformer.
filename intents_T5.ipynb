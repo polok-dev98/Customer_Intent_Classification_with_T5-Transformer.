{
 "cells": [
  {
   "cell_type": "code",
   "execution_count": 1,
   "id": "8bbd590c",
   "metadata": {},
   "outputs": [],
   "source": [
    "# Install the hugging face transformer and pytorch lighting\n",
    "!pip install --quiet transformers\n",
    "!pip install --quiet pytorch-lightning"
   ]
  },
  {
   "cell_type": "code",
   "execution_count": 2,
   "id": "329456c8",
   "metadata": {},
   "outputs": [
    {
     "name": "stderr",
     "output_type": "stream",
     "text": [
      "Global seed set to 42\n"
     ]
    },
    {
     "data": {
      "text/plain": [
       "42"
      ]
     },
     "execution_count": 2,
     "metadata": {},
     "output_type": "execute_result"
    }
   ],
   "source": [
    "#importing the library\n",
    "import pandas as pd\n",
    "import numpy as np\n",
    "import seaborn as sns\n",
    "import matplotlib.pyplot as plt\n",
    "import json\n",
    "import torch\n",
    "from pathlib import Path\n",
    "from torch.utils.data import DataLoader,Dataset\n",
    "import pytorch_lightning as pl\n",
    "from pytorch_lightning.callbacks import ModelCheckpoint\n",
    "from pytorch_lightning.loggers import TensorBoardLogger\n",
    "from sklearn.model_selection import train_test_split\n",
    "from termcolor import colored\n",
    "import textwrap\n",
    "from transformers import AdamW,T5ForConditionalGeneration,T5TokenizerFast\n",
    "import tqdm.auto as tqdm\n",
    "from pylab import rcParams\n",
    "\n",
    "sns.set(style='whitegrid', palette='muted', font_scale=1.2)\n",
    "HAPPY_COLORS_PALETTE = [\"#01BEFE\", \"#FFDD00\", \"#FF7D00\", \"#FF006D\", \"#ADFF02\", \"#8F00FF\"]\n",
    "sns.set_palette(sns.color_palette(HAPPY_COLORS_PALETTE))\n",
    "rcParams['figure.figsize'] = 12, 6\n",
    "RANDOM_SEED = 42\n",
    "np.random.seed(RANDOM_SEED)\n",
    "torch.manual_seed(RANDOM_SEED)\n",
    "import warnings\n",
    "warnings.filterwarnings('ignore')\n",
    "\n",
    "#set the seed value\n",
    "pl.seed_everything(42)"
   ]
  },
  {
   "cell_type": "code",
   "execution_count": 3,
   "id": "4f050b03",
   "metadata": {},
   "outputs": [
    {
     "data": {
      "text/html": [
       "<div>\n",
       "<style scoped>\n",
       "    .dataframe tbody tr th:only-of-type {\n",
       "        vertical-align: middle;\n",
       "    }\n",
       "\n",
       "    .dataframe tbody tr th {\n",
       "        vertical-align: top;\n",
       "    }\n",
       "\n",
       "    .dataframe thead th {\n",
       "        text-align: right;\n",
       "    }\n",
       "</style>\n",
       "<table border=\"1\" class=\"dataframe\">\n",
       "  <thead>\n",
       "    <tr style=\"text-align: right;\">\n",
       "      <th></th>\n",
       "      <th>utterance</th>\n",
       "      <th>intent</th>\n",
       "    </tr>\n",
       "  </thead>\n",
       "  <tbody>\n",
       "    <tr>\n",
       "      <th>0</th>\n",
       "      <td>I have problems with canceling an order</td>\n",
       "      <td>cancel_order</td>\n",
       "    </tr>\n",
       "    <tr>\n",
       "      <th>1</th>\n",
       "      <td>how can I find information about canceling ord...</td>\n",
       "      <td>cancel_order</td>\n",
       "    </tr>\n",
       "    <tr>\n",
       "      <th>2</th>\n",
       "      <td>I need help with canceling the last order</td>\n",
       "      <td>cancel_order</td>\n",
       "    </tr>\n",
       "    <tr>\n",
       "      <th>3</th>\n",
       "      <td>could you help me cancelling the last order I ...</td>\n",
       "      <td>cancel_order</td>\n",
       "    </tr>\n",
       "    <tr>\n",
       "      <th>4</th>\n",
       "      <td>problem with cancelling an order I made</td>\n",
       "      <td>cancel_order</td>\n",
       "    </tr>\n",
       "  </tbody>\n",
       "</table>\n",
       "</div>"
      ],
      "text/plain": [
       "                                           utterance        intent\n",
       "0            I have problems with canceling an order  cancel_order\n",
       "1  how can I find information about canceling ord...  cancel_order\n",
       "2          I need help with canceling the last order  cancel_order\n",
       "3  could you help me cancelling the last order I ...  cancel_order\n",
       "4            problem with cancelling an order I made  cancel_order"
      ]
     },
     "execution_count": 3,
     "metadata": {},
     "output_type": "execute_result"
    }
   ],
   "source": [
    "#read the dataset\n",
    "data=pd.read_excel(\"Bitext_Sample_Customer_Service_Training_Dataset.xlsx\")\n",
    "data.head()"
   ]
  },
  {
   "cell_type": "code",
   "execution_count": 4,
   "id": "71c63430",
   "metadata": {},
   "outputs": [
    {
     "data": {
      "text/plain": [
       "(8175, 2)"
      ]
     },
     "execution_count": 4,
     "metadata": {},
     "output_type": "execute_result"
    }
   ],
   "source": [
    "data.shape"
   ]
  },
  {
   "cell_type": "code",
   "execution_count": 5,
   "id": "a0301e08",
   "metadata": {},
   "outputs": [
    {
     "name": "stdout",
     "output_type": "stream",
     "text": [
      "<class 'pandas.core.frame.DataFrame'>\n",
      "RangeIndex: 8175 entries, 0 to 8174\n",
      "Data columns (total 2 columns):\n",
      " #   Column     Non-Null Count  Dtype \n",
      "---  ------     --------------  ----- \n",
      " 0   utterance  8175 non-null   object\n",
      " 1   intent     8175 non-null   object\n",
      "dtypes: object(2)\n",
      "memory usage: 127.9+ KB\n"
     ]
    }
   ],
   "source": [
    "data.info()"
   ]
  },
  {
   "cell_type": "code",
   "execution_count": 6,
   "id": "de6b29b3",
   "metadata": {},
   "outputs": [
    {
     "name": "stdout",
     "output_type": "stream",
     "text": [
      "unique_utterance: 8175\n"
     ]
    }
   ],
   "source": [
    "print(\"unique_utterance:\",len(data.utterance.unique()))"
   ]
  },
  {
   "cell_type": "code",
   "execution_count": 7,
   "id": "04213de8",
   "metadata": {},
   "outputs": [
    {
     "data": {
      "text/plain": [
       "get_invoice                 324\n",
       "check_invoice               324\n",
       "payment_issue               323\n",
       "review                      315\n",
       "track_refund                308\n",
       "set_up_shipping_address     307\n",
       "place_order                 306\n",
       "track_order                 305\n",
       "cancel_order                305\n",
       "change_order                304\n",
       "delivery_options            302\n",
       "check_refund_policy         302\n",
       "delivery_period             301\n",
       "contact_customer_service    299\n",
       "create_account              298\n",
       "check_cancellation_fee      298\n",
       "recover_password            298\n",
       "complaint                   298\n",
       "delete_account              298\n",
       "check_payment_methods       297\n",
       "change_shipping_address     297\n",
       "contact_human_agent         297\n",
       "registration_problems       296\n",
       "newsletter_subscription     295\n",
       "get_refund                  294\n",
       "edit_account                294\n",
       "switch_account              290\n",
       "Name: intent, dtype: int64"
      ]
     },
     "execution_count": 7,
     "metadata": {},
     "output_type": "execute_result"
    }
   ],
   "source": [
    "data.intent.value_counts()"
   ]
  },
  {
   "cell_type": "code",
   "execution_count": 8,
   "id": "1274ae1a",
   "metadata": {},
   "outputs": [
    {
     "data": {
      "text/plain": [
       "<AxesSubplot:xlabel='count', ylabel='intent'>"
      ]
     },
     "execution_count": 8,
     "metadata": {},
     "output_type": "execute_result"
    },
    {
     "data": {
      "image/png": "[encoded data removed]",
      "text/plain": [
       "<Figure size 864x432 with 1 Axes>"
      ]
     },
     "metadata": {},
     "output_type": "display_data"
    }
   ],
   "source": [
    "sns.countplot(y=\"intent\",data=data)\n"
   ]
  },
  {
   "cell_type": "code",
   "execution_count": 9,
   "id": "47016d2c",
   "metadata": {},
   "outputs": [
    {
     "name": "stdout",
     "output_type": "stream",
     "text": [
      "(7357, 2) (818, 2)\n"
     ]
    }
   ],
   "source": [
    "#train test split the data\n",
    "train_df,test_df=train_test_split(data,test_size=0.1)\n",
    "print(train_df.shape,test_df.shape)"
   ]
  },
  {
   "cell_type": "code",
   "execution_count": 10,
   "id": "1ca45db8",
   "metadata": {},
   "outputs": [],
   "source": [
    "#initialize the tokenizer\n",
    "model_name=\"t5-base\"\n",
    "tokenizer=T5TokenizerFast.from_pretrained(model_name)"
   ]
  },
  {
   "cell_type": "code",
   "execution_count": 11,
   "id": "6604aff0",
   "metadata": {},
   "outputs": [
    {
     "name": "stderr",
     "output_type": "stream",
     "text": [
      "Truncation was not explicitly activated but `max_length` is provided a specific value, please use `truncation=True` to explicitly truncate examples to max length. Defaulting to 'longest_first' truncation strategy. If you encode pairs of sequences (GLUE-style) with the tokenizer you can select this strategy more precisely by providing a specific strategy to `truncation`.\n"
     ]
    },
    {
     "data": {
      "text/plain": [
       "Text(0.5, 0, 'Token count')"
      ]
     },
     "execution_count": 11,
     "metadata": {},
     "output_type": "execute_result"
    },
    {
     "data": {
      "image/png": "[encoded data removed]",
      "text/plain": [
       "<Figure size 864x432 with 1 Axes>"
      ]
     },
     "metadata": {},
     "output_type": "display_data"
    }
   ],
   "source": [
    "token_lens = []\n",
    "\n",
    "for txt in data.utterance:\n",
    "    tokens = tokenizer.encode(txt,max_length=512) #each row contain fixed length of 512\n",
    "    token_lens.append(len(tokens))\n",
    "    \n",
    "sns.distplot(token_lens)\n",
    "plt.xlabel('Token count')    \n"
   ]
  },
  {
   "cell_type": "code",
   "execution_count": 12,
   "id": "a1bac6ee",
   "metadata": {},
   "outputs": [
    {
     "data": {
      "text/plain": [
       "Text(0.5, 0, 'Token count')"
      ]
     },
     "execution_count": 12,
     "metadata": {},
     "output_type": "execute_result"
    },
    {
     "data": {
      "image/png": "[encoded data removed]",
      "text/plain": [
       "<Figure size 864x432 with 1 Axes>"
      ]
     },
     "metadata": {},
     "output_type": "display_data"
    }
   ],
   "source": [
    "token_lens = []\n",
    "\n",
    "for txt in data.intent:\n",
    "    tokens = tokenizer.encode(txt,max_length=512) #each row contain fixed length of 512\n",
    "    token_lens.append(len(tokens))\n",
    "    \n",
    "sns.distplot(token_lens)\n",
    "#plt.xlim([0, 256]);\n",
    "plt.xlabel('Token count') "
   ]
  },
  {
   "cell_type": "code",
   "execution_count": 13,
   "id": "bf150360",
   "metadata": {},
   "outputs": [],
   "source": [
    "\n",
    "# create the model inputs (tokenized the data)\n",
    "class UtteranceDataset(Dataset):\n",
    "    def __init__(self,\n",
    "                data:pd.DataFrame,\n",
    "                tokenizer: T5TokenizerFast,\n",
    "                text_max_token_len: int=18,\n",
    "                intent_max_token_len: int=11):\n",
    "        \n",
    "        self.tokenizer=tokenizer\n",
    "        self.data=data\n",
    "        self.text_max_token_len=text_max_token_len\n",
    "        self.intent_max_token_len=intent_max_token_len\n",
    "        \n",
    "    def __len__(self):\n",
    "        return(len(self.data))\n",
    "    \n",
    "    def __getitem__(self,index: int):\n",
    "        data_row=self.data.iloc[index]\n",
    "        \n",
    "        text=data_row[\"utterance\"]\n",
    "        intent=data_row[\"intent\"]\n",
    "        \n",
    "        text_encoding=tokenizer(\n",
    "        text,\n",
    "        max_length=self.text_max_token_len,\n",
    "        padding=\"max_length\",\n",
    "        truncation=True,\n",
    "        return_attention_mask=True,\n",
    "        add_special_tokens=True,\n",
    "        return_tensors=\"pt\")\n",
    "        \n",
    "        intent_encoding=tokenizer(\n",
    "        intent,\n",
    "        max_length=self.intent_max_token_len, #create the encodings vector of fixed length\n",
    "        padding=\"max_length\",\n",
    "        truncation=True,\n",
    "        return_attention_mask=True,\n",
    "        add_special_tokens=True,\n",
    "        return_tensors=\"pt\")\n",
    "        \n",
    "        labels=intent_encoding[\"input_ids\"] # input_ids=unique id of each token\n",
    "        labels[labels==0]=-100 # avoid the computations of padding loss.  \n",
    "        \n",
    "        return dict(\n",
    "        text=text,\n",
    "        intent=intent,\n",
    "        text_input_ids=text_encoding[\"input_ids\"].flatten(),\n",
    "        text_attention_mask=text_encoding[\"attention_mask\"].flatten(),\n",
    "        labels=labels.flatten(),\n",
    "        labels_attention_mask=intent_encoding[\"attention_mask\"].flatten())"
   ]
  },
  {
   "cell_type": "code",
   "execution_count": 14,
   "id": "bc7301c7",
   "metadata": {},
   "outputs": [],
   "source": [
    "# create the train + test tokenized dataset and train and test dataloader\n",
    "class UtteranceDataModule(pl.LightningDataModule):\n",
    "    def __init__(self,\n",
    "                train_df:pd.DataFrame,\n",
    "                test_df:pd.DataFrame,\n",
    "                tokenizer:T5TokenizerFast,\n",
    "                batch_size: int=8,\n",
    "                text_max_token_len: int=18,\n",
    "                intent_max_token_len: int=11):\n",
    "        super().__init__()\n",
    "        \n",
    "        self.train_df=train_df\n",
    "        self.test_df=test_df\n",
    "        self.batch_size=batch_size\n",
    "        self.tokenizer=tokenizer\n",
    "        self.text_max_token_len=text_max_token_len\n",
    "        self.intent_max_token_len=intent_max_token_len\n",
    "        \n",
    "        #create dataset\n",
    "    def setup(self,stage=None):\n",
    "        self.train_dataset=UtteranceDataset(\n",
    "        self.train_df,\n",
    "        self.tokenizer,\n",
    "        self.text_max_token_len,\n",
    "        self.intent_max_token_len)\n",
    "        \n",
    "        self.test_dataset=UtteranceDataset(\n",
    "        self.test_df,\n",
    "        self.tokenizer,\n",
    "        self.text_max_token_len,\n",
    "        self.intent_max_token_len)\n",
    "            \n",
    "    #create the dataloader\n",
    "    def train_dataloader(self):\n",
    "        return DataLoader(\n",
    "        self.train_dataset,\n",
    "        batch_size=self.batch_size,\n",
    "        shuffle=True\n",
    "        )\n",
    "    def val_dataloader(self):\n",
    "        return DataLoader(\n",
    "        self.test_dataset,\n",
    "        batch_size=self.batch_size,\n",
    "        shuffle=False\n",
    "        )\n"
   ]
  },
  {
   "cell_type": "code",
   "execution_count": 15,
   "id": "63000fc2",
   "metadata": {},
   "outputs": [],
   "source": [
    "NB_EPOCHS=3\n",
    "BATCH_SIZE=8\n",
    "\n",
    "#initialize the data module .\n",
    "data_module=UtteranceDataModule(train_df,test_df,tokenizer,batch_size=BATCH_SIZE)"
   ]
  },
  {
   "cell_type": "code",
   "execution_count": 16,
   "id": "b32775ae",
   "metadata": {},
   "outputs": [],
   "source": [
    "#----------------Building the model-------------------------------------\n",
    "\n",
    "class UtteranceModel(pl.LightningModule):\n",
    "    def __init__(self):\n",
    "        super().__init__()\n",
    "        self.model=T5ForConditionalGeneration.from_pretrained(model_name,return_dict=True)\n",
    "        \n",
    "    def forward(self,input_ids,attention_mask,decoder_attention_mask,labels=None):\n",
    "        output=self.model(\n",
    "        input_ids,\n",
    "        attention_mask=attention_mask,\n",
    "        labels=labels,\n",
    "        decoder_attention_mask=decoder_attention_mask    \n",
    "        )\n",
    "        \n",
    "        return output.loss,output.logits\n",
    "    \n",
    "     # To complete training loop(batch wise)\n",
    "    def training_step(self,batch,batch_idx): \n",
    "        input_ids=batch[\"text_input_ids\"]\n",
    "        attention_mask=batch[\"text_attention_mask\"]\n",
    "        labels=batch[\"labels\"]\n",
    "        labels_attention_mask=batch[\"labels_attention_mask\"]\n",
    "        \n",
    "        # call the forward function\n",
    "        loss,outputs=self(\n",
    "        input_ids=input_ids,\n",
    "        attention_mask=attention_mask,\n",
    "            \n",
    "        decoder_attention_mask=labels_attention_mask,\n",
    "        labels=labels)\n",
    "        \n",
    "       \n",
    "        self.log(\"train_loss\",loss,prog_bar=True,logger=True)\n",
    "        return loss\n",
    "    \n",
    "    # To complete validation loop(batch wise)\n",
    "    def validation_step(self,batch,batch_idx):\n",
    "        input_ids=batch[\"text_input_ids\"]\n",
    "        attention_mask=batch[\"text_attention_mask\"]\n",
    "        labels=batch[\"labels\"]\n",
    "        labels_attention_mask=batch[\"labels_attention_mask\"]\n",
    "        \n",
    "        # call the forward function\n",
    "        loss,outputs=self(\n",
    "        input_ids=input_ids,\n",
    "        attention_mask=attention_mask,\n",
    "        decoder_attention_mask=labels_attention_mask,\n",
    "        labels=labels)\n",
    "        \n",
    "       \n",
    "        self.log(\"val_loss\",loss,prog_bar=True,logger=True)\n",
    "        return loss\n",
    "    \n",
    "    # To complete test loop(batch wise)\n",
    "    def test_step(self,batch,batch_idx): \n",
    "        input_ids=batch[\"text_input_ids\"]\n",
    "        attention_mask=batch[\"text_attention_mask\"]\n",
    "        labels=batch[\"labels\"]\n",
    "        labels_attention_mask=batch[\"labels_attention_mask\"]\n",
    "        \n",
    "        # call the forward function\n",
    "        loss,outputs=self(\n",
    "        input_ids=input_ids,\n",
    "        attention_mask=attention_mask,\n",
    "        decoder_attention_mask=labels_attention_mask,\n",
    "        labels=labels)\n",
    "        \n",
    "       \n",
    "        self.log(\"test_loss\",loss,prog_bar=True,logger=True)\n",
    "        return loss\n",
    "    \n",
    "    # define optimizers and LR schedulers\n",
    "    def configure_optimizers(self):\n",
    "        return AdamW(self.parameters(),lr=0.0001)\n",
    "    "
   ]
  },
  {
   "cell_type": "code",
   "execution_count": 17,
   "id": "9b1cc2a8",
   "metadata": {},
   "outputs": [],
   "source": [
    "# Initialize the T5 model .   \n",
    "model=UtteranceModel()"
   ]
  },
  {
   "cell_type": "code",
   "execution_count": 18,
   "id": "cb6a6f3a",
   "metadata": {},
   "outputs": [
    {
     "name": "stderr",
     "output_type": "stream",
     "text": [
      "GPU available: False, used: False\n",
      "TPU available: False, using: 0 TPU cores\n",
      "IPU available: False, using: 0 IPUs\n",
      "HPU available: False, using: 0 HPUs\n"
     ]
    }
   ],
   "source": [
    "# build the model chaeckpoints \n",
    "check_point_callback=ModelCheckpoint(\n",
    "                        dirpath=\"checkpoints\",\n",
    "                        filename=\"best_checkpoint\",\n",
    "                        save_top_k=1,\n",
    "                        verbose=True,\n",
    "                        monitor=\"val_loss\",\n",
    "                        mode=\"min\")\n",
    "\n",
    "#Trainer handles the training loop details\n",
    "trainer=pl.Trainer(callbacks=[check_point_callback],\n",
    "                  max_epochs=NB_EPOCHS)\n"
   ]
  },
  {
   "cell_type": "code",
   "execution_count": 19,
   "id": "85955550",
   "metadata": {},
   "outputs": [
    {
     "name": "stderr",
     "output_type": "stream",
     "text": [
      "\n",
      "  | Name  | Type                       | Params\n",
      "-----------------------------------------------------\n",
      "0 | model | T5ForConditionalGeneration | 222 M \n",
      "-----------------------------------------------------\n",
      "222 M     Trainable params\n",
      "0         Non-trainable params\n",
      "222 M     Total params\n",
      "891.614   Total estimated model params size (MB)\n"
     ]
    },
    {
     "data": {
      "application/vnd.jupyter.widget-view+json": {
       "model_id": "",
       "version_major": 2,
       "version_minor": 0
      },
      "text/plain": [
       "Sanity Checking: 0it [00:00, ?it/s]"
      ]
     },
     "metadata": {},
     "output_type": "display_data"
    },
    {
     "data": {
      "application/vnd.jupyter.widget-view+json": {
       "model_id": "f5cc364d1435425a806da64bb67e3b29",
       "version_major": 2,
       "version_minor": 0
      },
      "text/plain": [
       "Training: 0it [00:00, ?it/s]"
      ]
     },
     "metadata": {},
     "output_type": "display_data"
    },
    {
     "data": {
      "application/vnd.jupyter.widget-view+json": {
       "model_id": "",
       "version_major": 2,
       "version_minor": 0
      },
      "text/plain": [
       "Validation: 0it [00:00, ?it/s]"
      ]
     },
     "metadata": {},
     "output_type": "display_data"
    },
    {
     "name": "stderr",
     "output_type": "stream",
     "text": [
      "Epoch 0, global step 920: 'val_loss' reached 0.00772 (best 0.00772), saving model to 'C:\\\\Users\\\\User\\\\Documents\\\\intents_classification_wit_T5_deepLearning_project\\\\checkpoints\\\\best_checkpoint.ckpt' as top 1\n"
     ]
    }
   ],
   "source": [
    "# start the training process\n",
    "trainer.fit(model,data_module)"
   ]
  },
  {
   "cell_type": "code",
   "execution_count": 22,
   "id": "8576e0fe",
   "metadata": {},
   "outputs": [],
   "source": [
    "#load our trained model\n",
    "trained_model=UtteranceModel.load_from_checkpoint(\n",
    "                       trainer.checkpoint_callback.best_model_path)\n",
    "\n",
    "trained_model.freeze()"
   ]
  },
  {
   "cell_type": "code",
   "execution_count": 23,
   "id": "55599ec6",
   "metadata": {},
   "outputs": [],
   "source": [
    "#Create the intent classifications of the given text input.\n",
    "def classified(text):\n",
    "    text_encoding=tokenizer(\n",
    "        text,\n",
    "        max_length=18,\n",
    "        padding=\"max_length\",\n",
    "        truncation=True,\n",
    "        return_attention_mask=True,\n",
    "        add_special_tokens=True,\n",
    "        return_tensors=\"pt\")\n",
    "    \n",
    "    # Use of the trained model for generate the intents.\n",
    "    generated_ids=trained_model.model.generate(\n",
    "        input_ids=text_encoding[\"input_ids\"],\n",
    "        attention_mask=text_encoding[\"attention_mask\"],\n",
    "        max_length=20,\n",
    "        num_beams=2,\n",
    "        repetition_penalty=2.5,\n",
    "        length_penalty=1.0,\n",
    "        early_stopping=True ) \n",
    "    \n",
    "    preds = [\n",
    "        tokenizer.decode(gen_id,skip_special_tokens=True,clean_up_tokenization_spaces=True) for gen_id in generated_ids\n",
    "    ]\n",
    "    \n",
    "    return \"\".join(preds)"
   ]
  },
  {
   "cell_type": "code",
   "execution_count": 27,
   "id": "d4a47626",
   "metadata": {},
   "outputs": [
    {
     "name": "stdout",
     "output_type": "stream",
     "text": [
      "text : i have got to edit the goddamn info on my user profile\n",
      "Original_intent: edit_account\n",
      "Predicted_intent: edit_account\n"
     ]
    }
   ],
   "source": [
    "#------------------- show the predictions---------------------------------\n",
    "\n",
    "sample_row=test_df.iloc[0]\n",
    "text=sample_row[\"utterance\"]\n",
    "model_output=classified(text)\n",
    "print(\"text :\",text)\n",
    "print(\"Original_intent:\",sample_row[\"intent\"])  \n",
    "print(\"Predicted_intent:\",model_output) "
   ]
  },
  {
   "cell_type": "code",
   "execution_count": 29,
   "id": "244fd71e",
   "metadata": {},
   "outputs": [
    {
     "name": "stdout",
     "output_type": "stream",
     "text": [
      "text : assistance to get the invoices from December\n",
      "Original_intent: get_invoice\n",
      "Predicted_intent: get_invoice\n"
     ]
    }
   ],
   "source": [
    "sample_row=test_df.iloc[55]\n",
    "text=sample_row[\"utterance\"]\n",
    "model_output=classified(text)\n",
    "print(\"text :\",text)\n",
    "print(\"Original_intent:\",sample_row[\"intent\"])  \n",
    "print(\"Predicted_intent:\",model_output) "
   ]
  },
  {
   "cell_type": "code",
   "execution_count": 30,
   "id": "3f480dfc",
   "metadata": {},
   "outputs": [
    {
     "name": "stdout",
     "output_type": "stream",
     "text": [
      "text : order cancellation\n",
      "Original_intent: cancel_order\n",
      "Predicted_intent: cancel_order\n"
     ]
    }
   ],
   "source": [
    "sample_row=test_df.iloc[110]\n",
    "text=sample_row[\"utterance\"]\n",
    "model_output=classified(text)\n",
    "print(\"text :\",text)\n",
    "print(\"Original_intent:\",sample_row[\"intent\"])  \n",
    "print(\"Predicted_intent:\",model_output) "
   ]
  },
  {
   "cell_type": "code",
   "execution_count": null,
   "id": "d2bc8808",
   "metadata": {},
   "outputs": [],
   "source": []
  }
 ],
 "metadata": {
  "kernelspec": {
   "display_name": "Python 3 (ipykernel)",
   "language": "python",
   "name": "python3"
  },
  "language_info": {
   "codemirror_mode": {
    "name": "ipython",
    "version": 3
   },
   "file_extension": ".py",
   "mimetype": "text/x-python",
   "name": "python",
   "nbconvert_exporter": "python",
   "pygments_lexer": "ipython3",
   "version": "3.9.7"
  }
 },
 "nbformat": 4,
 "nbformat_minor": 5
}
